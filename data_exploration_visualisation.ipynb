{
 "cells": [
  {
   "cell_type": "code",
   "execution_count": 2,
   "metadata": {},
   "outputs": [],
   "source": [
    "#import relevant packages\n",
    "\n",
    "import pandas as pd\n",
    "import numpy as np\n"
   ]
  },
  {
   "cell_type": "markdown",
   "metadata": {},
   "source": [
    "For reference, the data source is https://archive.ics.uci.edu/dataset/373/drug+consumption+quantified"
   ]
  },
  {
   "cell_type": "code",
   "execution_count": 13,
   "metadata": {},
   "outputs": [],
   "source": [
    "#loading in data\n",
    "data = pd.read_csv('drug_consumption.csv', header = None)"
   ]
  },
  {
   "cell_type": "code",
   "execution_count": 14,
   "metadata": {},
   "outputs": [],
   "source": [
    "# adding column names, original .csv file did not have a header \n",
    "data.columns = ['id', 'age', 'gender', 'education', 'country', 'ethnicity', 'nscore', 'escore', 'oscore', 'ascore', 'cscore', 'impulsive', \n",
    "                'ss', 'alcohol', 'amphet', 'amyl', 'benzos', 'caff', 'cannabis', 'choc', 'coke', 'crack', 'ecstacy', 'heroin', 'ketamine',\n",
    "                'legalh', 'lsd', 'meth', 'mushrooms', 'nicotine', 'semer', 'vsa']"
   ]
  },
  {
   "cell_type": "code",
   "execution_count": 17,
   "metadata": {},
   "outputs": [],
   "source": [
    "#creating new dataframe to only contain the nicotine column as target \n",
    "data_nic = data.drop(columns=['alcohol', 'amphet', 'amyl', 'benzos', 'caff', 'cannabis', 'choc', 'coke', 'crack', 'ecstacy', 'heroin', \n",
    "                              'ketamine', 'legalh', 'lsd', 'meth', 'mushrooms', 'semer', 'vsa'])"
   ]
  },
  {
   "cell_type": "code",
   "execution_count": 18,
   "metadata": {},
   "outputs": [
    {
     "data": {
      "text/html": [
       "<div>\n",
       "<style scoped>\n",
       "    .dataframe tbody tr th:only-of-type {\n",
       "        vertical-align: middle;\n",
       "    }\n",
       "\n",
       "    .dataframe tbody tr th {\n",
       "        vertical-align: top;\n",
       "    }\n",
       "\n",
       "    .dataframe thead th {\n",
       "        text-align: right;\n",
       "    }\n",
       "</style>\n",
       "<table border=\"1\" class=\"dataframe\">\n",
       "  <thead>\n",
       "    <tr style=\"text-align: right;\">\n",
       "      <th></th>\n",
       "      <th>id</th>\n",
       "      <th>age</th>\n",
       "      <th>gender</th>\n",
       "      <th>education</th>\n",
       "      <th>country</th>\n",
       "      <th>ethnicity</th>\n",
       "      <th>nscore</th>\n",
       "      <th>escore</th>\n",
       "      <th>oscore</th>\n",
       "      <th>ascore</th>\n",
       "      <th>cscore</th>\n",
       "      <th>impulsive</th>\n",
       "      <th>ss</th>\n",
       "      <th>nicotine</th>\n",
       "    </tr>\n",
       "  </thead>\n",
       "  <tbody>\n",
       "    <tr>\n",
       "      <th>0</th>\n",
       "      <td>1</td>\n",
       "      <td>0.49788</td>\n",
       "      <td>0.48246</td>\n",
       "      <td>-0.05921</td>\n",
       "      <td>0.96082</td>\n",
       "      <td>0.126</td>\n",
       "      <td>0.31287</td>\n",
       "      <td>-0.57545</td>\n",
       "      <td>-0.58331</td>\n",
       "      <td>-0.91699</td>\n",
       "      <td>-0.00665</td>\n",
       "      <td>-0.21712</td>\n",
       "      <td>-1.18084</td>\n",
       "      <td>CL2</td>\n",
       "    </tr>\n",
       "  </tbody>\n",
       "</table>\n",
       "</div>"
      ],
      "text/plain": [
       "   id      age   gender  education  country  ethnicity   nscore   escore  \\\n",
       "0   1  0.49788  0.48246   -0.05921  0.96082      0.126  0.31287 -0.57545   \n",
       "\n",
       "    oscore   ascore   cscore  impulsive       ss nicotine  \n",
       "0 -0.58331 -0.91699 -0.00665   -0.21712 -1.18084      CL2  "
      ]
     },
     "execution_count": 18,
     "metadata": {},
     "output_type": "execute_result"
    }
   ],
   "source": [
    "data_nic.head(1)"
   ]
  },
  {
   "cell_type": "code",
   "execution_count": 23,
   "metadata": {},
   "outputs": [],
   "source": [
    "#splitting dataset into training and test set \n",
    "\n",
    "from sklearn.model_selection import train_test_split\n",
    "nictrain_set, nictest_set = train_test_split(data_nic, test_size = 0.2, random_state = 66)"
   ]
  },
  {
   "cell_type": "code",
   "execution_count": 28,
   "metadata": {},
   "outputs": [
    {
     "name": "stdout",
     "output_type": "stream",
     "text": [
      "nicotine\n",
      "CL6    0.317639\n",
      "CL0    0.230769\n",
      "CL2    0.110743\n",
      "CL1    0.102122\n",
      "CL3    0.098143\n",
      "CL5    0.085544\n",
      "CL4    0.055040\n",
      "Name: proportion, dtype: float64 nicotine\n",
      "CL6    0.347480\n",
      "CL0    0.212202\n",
      "CL1    0.103448\n",
      "CL2    0.098143\n",
      "CL3    0.098143\n",
      "CL5    0.074271\n",
      "CL4    0.066313\n",
      "Name: proportion, dtype: float64\n"
     ]
    }
   ],
   "source": [
    "#looking at proportion of each category from training and test set, to make sure that the split didn't lead to imbalances \n",
    "\n",
    "targetprop_train = nictrain_set['nicotine'].value_counts(normalize=True)\n",
    "targetprop_test = nictest_set['nicotine'].value_counts(normalize=True)\n",
    "\n",
    "print(targetprop_train, targetprop_test)\n",
    "\n",
    "#can see that the proportion of each category is relatively similar, so we can proceed with the train/test split above "
   ]
  },
  {
   "cell_type": "code",
   "execution_count": null,
   "metadata": {},
   "outputs": [],
   "source": []
  }
 ],
 "metadata": {
  "kernelspec": {
   "display_name": "myenv",
   "language": "python",
   "name": "python3"
  },
  "language_info": {
   "codemirror_mode": {
    "name": "ipython",
    "version": 3
   },
   "file_extension": ".py",
   "mimetype": "text/x-python",
   "name": "python",
   "nbconvert_exporter": "python",
   "pygments_lexer": "ipython3",
   "version": "3.10.13"
  }
 },
 "nbformat": 4,
 "nbformat_minor": 2
}
